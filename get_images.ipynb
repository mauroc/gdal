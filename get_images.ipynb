{
 "cells": [
  {
   "cell_type": "code",
   "execution_count": 1,
   "metadata": {},
   "outputs": [],
   "source": [
    "import MySQLdb\n",
    "import datetime\n",
    "import json\n",
    "import pandas as pd"
   ]
  },
  {
   "cell_type": "code",
   "execution_count": 3,
   "metadata": {},
   "outputs": [
    {
     "data": {
      "text/html": [
       "<div>\n",
       "<style scoped>\n",
       "    .dataframe tbody tr th:only-of-type {\n",
       "        vertical-align: middle;\n",
       "    }\n",
       "\n",
       "    .dataframe tbody tr th {\n",
       "        vertical-align: top;\n",
       "    }\n",
       "\n",
       "    .dataframe thead th {\n",
       "        text-align: right;\n",
       "    }\n",
       "</style>\n",
       "<table border=\"1\" class=\"dataframe\">\n",
       "  <thead>\n",
       "    <tr style=\"text-align: right;\">\n",
       "      <th></th>\n",
       "      <th>id</th>\n",
       "      <th>f_class</th>\n",
       "      <th>latitude</th>\n",
       "      <th>longitude</th>\n",
       "      <th>chart_name</th>\n",
       "      <th>tags</th>\n",
       "      <th>created_at</th>\n",
       "      <th>updated_at</th>\n",
       "      <th>lnam</th>\n",
       "    </tr>\n",
       "  </thead>\n",
       "  <tbody>\n",
       "    <tr>\n",
       "      <th>0</th>\n",
       "      <td>4</td>\n",
       "      <td>BRIDGE</td>\n",
       "      <td>37.9431</td>\n",
       "      <td>-122.515</td>\n",
       "      <td>US5CA21M</td>\n",
       "      <td>{\"CATBRG\": \"1\", \"SORDAT\": \"19990316\", \"SORIND\"...</td>\n",
       "      <td>2017-12-17 00:00:25</td>\n",
       "      <td>2017-12-17 00:00:25</td>\n",
       "      <td>0226166286990DC8</td>\n",
       "    </tr>\n",
       "    <tr>\n",
       "      <th>1</th>\n",
       "      <td>5</td>\n",
       "      <td>BRIDGE</td>\n",
       "      <td>37.9345</td>\n",
       "      <td>-122.435</td>\n",
       "      <td>US5CA21M</td>\n",
       "      <td>{\"CATBRG\": \"1\", \"OBJNAM\": \"Richmond - San Rafa...</td>\n",
       "      <td>2017-12-17 00:00:25</td>\n",
       "      <td>2017-12-17 00:00:25</td>\n",
       "      <td>02261662868E0DC8</td>\n",
       "    </tr>\n",
       "    <tr>\n",
       "      <th>2</th>\n",
       "      <td>6</td>\n",
       "      <td>BRIDGE</td>\n",
       "      <td>37.8827</td>\n",
       "      <td>-122.519</td>\n",
       "      <td>US5CA21M</td>\n",
       "      <td>{\"CATBRG\": \"1\", \"SCAMIN\": 59999, \"SORIND\": \"US...</td>\n",
       "      <td>2017-12-17 00:00:25</td>\n",
       "      <td>2017-12-17 00:00:25</td>\n",
       "      <td>02260000756A0001</td>\n",
       "    </tr>\n",
       "    <tr>\n",
       "      <th>3</th>\n",
       "      <td>7</td>\n",
       "      <td>BRIDGE</td>\n",
       "      <td>37.9394</td>\n",
       "      <td>-122.464</td>\n",
       "      <td>US5CA21M</td>\n",
       "      <td>{\"CATBRG\": \"1\", \"OBJNAM\": \"Richmond - San Rafa...</td>\n",
       "      <td>2017-12-17 00:00:25</td>\n",
       "      <td>2017-12-17 00:00:25</td>\n",
       "      <td>02261662868C0DC8</td>\n",
       "    </tr>\n",
       "    <tr>\n",
       "      <th>4</th>\n",
       "      <td>8</td>\n",
       "      <td>BRIDGE</td>\n",
       "      <td>37.9090</td>\n",
       "      <td>-122.329</td>\n",
       "      <td>US5CA21M</td>\n",
       "      <td>{\"CATBRG\": \"1\", \"SCAMIN\": 59999, \"SORDAT\": \"19...</td>\n",
       "      <td>2017-12-17 00:00:25</td>\n",
       "      <td>2017-12-17 00:00:25</td>\n",
       "      <td>0226166286AB0DC8</td>\n",
       "    </tr>\n",
       "  </tbody>\n",
       "</table>\n",
       "</div>"
      ],
      "text/plain": [
       "   id f_class  latitude  longitude chart_name  \\\n",
       "0   4  BRIDGE   37.9431   -122.515   US5CA21M   \n",
       "1   5  BRIDGE   37.9345   -122.435   US5CA21M   \n",
       "2   6  BRIDGE   37.8827   -122.519   US5CA21M   \n",
       "3   7  BRIDGE   37.9394   -122.464   US5CA21M   \n",
       "4   8  BRIDGE   37.9090   -122.329   US5CA21M   \n",
       "\n",
       "                                                tags          created_at  \\\n",
       "0  {\"CATBRG\": \"1\", \"SORDAT\": \"19990316\", \"SORIND\"... 2017-12-17 00:00:25   \n",
       "1  {\"CATBRG\": \"1\", \"OBJNAM\": \"Richmond - San Rafa... 2017-12-17 00:00:25   \n",
       "2  {\"CATBRG\": \"1\", \"SCAMIN\": 59999, \"SORIND\": \"US... 2017-12-17 00:00:25   \n",
       "3  {\"CATBRG\": \"1\", \"OBJNAM\": \"Richmond - San Rafa... 2017-12-17 00:00:25   \n",
       "4  {\"CATBRG\": \"1\", \"SCAMIN\": 59999, \"SORDAT\": \"19... 2017-12-17 00:00:25   \n",
       "\n",
       "           updated_at              lnam  \n",
       "0 2017-12-17 00:00:25  0226166286990DC8  \n",
       "1 2017-12-17 00:00:25  02261662868E0DC8  \n",
       "2 2017-12-17 00:00:25  02260000756A0001  \n",
       "3 2017-12-17 00:00:25  02261662868C0DC8  \n",
       "4 2017-12-17 00:00:25  0226166286AB0DC8  "
      ]
     },
     "execution_count": 3,
     "metadata": {},
     "output_type": "execute_result"
    }
   ],
   "source": [
    "with open('./credentials.json') as f:\n",
    "    data = json.load(f)\n",
    "    username = data['username']\n",
    "    password = data['password']\n",
    "    \n",
    "db = MySQLdb.connect(host=\"localhost\", user=username, passwd=password, db=\"bbxais_development\" )\n",
    "\n",
    "query1 = \"select * from s57objs where f_class IN ('BRIDGE', 'BOYLAT', 'SMCFAC', 'LIGHTS', 'WRECK')\"\n",
    "\n",
    "data = pd.read_sql(query1, con=db)\n",
    "data.head()"
   ]
  },
  {
   "cell_type": "code",
   "execution_count": null,
   "metadata": {},
   "outputs": [],
   "source": [
    "print(len(data))"
   ]
  },
  {
   "cell_type": "code",
   "execution_count": null,
   "metadata": {},
   "outputs": [],
   "source": [
    "# df=data[data.f_class.isin(classes)]"
   ]
  },
  {
   "cell_type": "code",
   "execution_count": null,
   "metadata": {},
   "outputs": [],
   "source": [
    "for index, row in data.iterrows():\n",
    "    print(index, row['latitude'],row['longitude'])"
   ]
  }
 ],
 "metadata": {
  "kernelspec": {
   "display_name": "Python 3",
   "language": "python",
   "name": "python3"
  },
  "language_info": {
   "codemirror_mode": {
    "name": "ipython",
    "version": 3
   },
   "file_extension": ".py",
   "mimetype": "text/x-python",
   "name": "python",
   "nbconvert_exporter": "python",
   "pygments_lexer": "ipython3",
   "version": "3.4.3"
  }
 },
 "nbformat": 4,
 "nbformat_minor": 2
}
