{
 "cells": [
  {
   "cell_type": "code",
   "execution_count": 1,
   "metadata": {},
   "outputs": [
    {
     "ename": "ModuleNotFoundError",
     "evalue": "No module named 'MySQLdb'",
     "output_type": "error",
     "traceback": [
      "\u001b[0;31m---------------------------------------------------------------------------\u001b[0m",
      "\u001b[0;31mModuleNotFoundError\u001b[0m                       Traceback (most recent call last)",
      "\u001b[0;32m<ipython-input-1-adf8f9f77172>\u001b[0m in \u001b[0;36m<module>\u001b[0;34m()\u001b[0m\n\u001b[1;32m      2\u001b[0m \u001b[0;32mimport\u001b[0m \u001b[0mcsv\u001b[0m\u001b[0;34m\u001b[0m\u001b[0m\n\u001b[1;32m      3\u001b[0m \u001b[0;32mfrom\u001b[0m \u001b[0mosgeo\u001b[0m \u001b[0;32mimport\u001b[0m \u001b[0mogr\u001b[0m\u001b[0;34m\u001b[0m\u001b[0m\n\u001b[0;32m----> 4\u001b[0;31m \u001b[0;32mimport\u001b[0m \u001b[0mMySQLdb\u001b[0m\u001b[0;34m\u001b[0m\u001b[0m\n\u001b[0m\u001b[1;32m      5\u001b[0m \u001b[0;32mimport\u001b[0m \u001b[0mdatetime\u001b[0m\u001b[0;34m\u001b[0m\u001b[0m\n\u001b[1;32m      6\u001b[0m \u001b[0;32mimport\u001b[0m \u001b[0mjson\u001b[0m\u001b[0;34m\u001b[0m\u001b[0m\n",
      "\u001b[0;31mModuleNotFoundError\u001b[0m: No module named 'MySQLdb'"
     ]
    }
   ],
   "source": [
    "import os\n",
    "import csv\n",
    "from osgeo import ogr\n",
    "import MySQLdb\n",
    "import datetime\n",
    "import json\n",
    "\n",
    "try:\n",
    "    from osgeo import ogr\n",
    "    print('Import of ogr from osgeo worked.  Hurray!\\n')\n",
    "except:\n",
    "    print('Import of ogr from osgeo failed\\n\\n')"
   ]
  },
  {
   "cell_type": "code",
   "execution_count": 4,
   "metadata": {},
   "outputs": [
    {
     "ename": "NameError",
     "evalue": "name 'ogr' is not defined",
     "output_type": "error",
     "traceback": [
      "\u001b[0;31m---------------------------------------------------------------------------\u001b[0m",
      "\u001b[0;31mNameError\u001b[0m                                 Traceback (most recent call last)",
      "\u001b[0;32m<ipython-input-4-20e0213abaca>\u001b[0m in \u001b[0;36m<module>\u001b[0;34m()\u001b[0m\n\u001b[1;32m      3\u001b[0m \u001b[0mroot_dir\u001b[0m \u001b[0;34m=\u001b[0m \u001b[0;34m'/root/ENC_ROOT'\u001b[0m\u001b[0;34m\u001b[0m\u001b[0m\n\u001b[1;32m      4\u001b[0m \u001b[0mdriverName\u001b[0m \u001b[0;34m=\u001b[0m \u001b[0;34m\"S57\"\u001b[0m\u001b[0;34m\u001b[0m\u001b[0m\n\u001b[0;32m----> 5\u001b[0;31m \u001b[0mdriver\u001b[0m \u001b[0;34m=\u001b[0m \u001b[0mogr\u001b[0m\u001b[0;34m.\u001b[0m\u001b[0mGetDriverByName\u001b[0m\u001b[0;34m(\u001b[0m \u001b[0mdriverName\u001b[0m \u001b[0;34m)\u001b[0m\u001b[0;34m\u001b[0m\u001b[0m\n\u001b[0m\u001b[1;32m      6\u001b[0m \u001b[0mchart_count\u001b[0m \u001b[0;34m=\u001b[0m \u001b[0mtot_objs\u001b[0m \u001b[0;34m=\u001b[0m \u001b[0mtot_unique_objs\u001b[0m \u001b[0;34m=\u001b[0m \u001b[0mdups\u001b[0m \u001b[0;34m=\u001b[0m \u001b[0;36m0\u001b[0m\u001b[0;34m\u001b[0m\u001b[0m\n\u001b[1;32m      7\u001b[0m \u001b[0;34m\u001b[0m\u001b[0m\n",
      "\u001b[0;31mNameError\u001b[0m: name 'ogr' is not defined"
     ]
    }
   ],
   "source": [
    "# initialize variables\n",
    "\n",
    "global chart_count, driver, tot_objs, s57classes, dups\n",
    "\n",
    "root_dir = '/root/ENC_ROOT'    \n",
    "driverName = \"S57\"\n",
    "driver = ogr.GetDriverByName( driverName )\n",
    "chart_count = tot_objs = tot_unique_objs = dups = 0\n",
    "\n",
    "with open('../../credentials.json') as f:\n",
    "    data = json.load(f)\n",
    "    username = data['username']\n",
    "    password = data['password']\n",
    "    \n",
    "db = MySQLdb.connect(host=\"localhost\", user=username, passwd=password, db=\"bbxais_development\" )\n",
    "cur=db.cursor()"
   ]
  },
  {
   "cell_type": "markdown",
   "metadata": {},
   "source": [
    "## Functions"
   ]
  },
  {
   "cell_type": "code",
   "execution_count": null,
   "metadata": {},
   "outputs": [],
   "source": [
    "def parse_chart(file_name,chart_name):\n",
    "    print \"\\n\" , file_name\n",
    "    chart_count+=1\n",
    "    dups = 0\n",
    "    dataSource = driver.Open(file_name, 0) # 0 means read-only. 1 means writeable.\n",
    "    for s57class in s57classes:\n",
    "        layer = dataSource.GetLayerByName(s57class)\n",
    "        if layer:\n",
    "            num_objs = layer.GetFeatureCount()\n",
    "            tot_objs += num_objs\n",
    "            for feature in layer:\n",
    "                sql_create_obj(chart_name, s57class, feature)\n",
    "    dataSource=None"
   ]
  },
  {
   "cell_type": "code",
   "execution_count": null,
   "metadata": {},
   "outputs": [],
   "source": [
    "def create_hash(s57class,feature):\n",
    "    data_hash={}\n",
    "    if s57classes[s57class]:\n",
    "        for attr_class in ['attra', 'attrb', 'attrc']:    \n",
    "            #attrs = {}\n",
    "            klasses=s57classes[s57class] and s57classes[s57class][attr_class] and s57classes[s57class][attr_class].split(';')\n",
    "            if klasses:            \n",
    "                for klass in klasses:\n",
    "                    if klass:\n",
    "                        try:\n",
    "                            #todo classes with lower case names generate error\n",
    "                            klass_value =feature.GetField(klass.upper())    \n",
    "                        except:\n",
    "                            klass_value = None\n",
    "                            pass\n",
    "                        if klass_value: \n",
    "                            #attrs[klass]=klass_value\n",
    "                            data_hash[klass]=klass_value\n",
    "                #data_hash[attr_class]= attrs\n",
    "    return data_hash"
   ]
  },
  {
   "cell_type": "code",
   "execution_count": null,
   "metadata": {},
   "outputs": [],
   "source": [
    "def sql_find_obj(lnam,s57class):\n",
    "    global db, cur\n",
    "    # https://dev.mysql.com/doc/connector-python/en/connector-python-example-cursor-select.html\n",
    "    cur.execute(\"SELECT id FROM s57objs WHERE lnam = %s AND f_class = %s\", (lnam, s57class) )\n",
    "    return cur.fetchall()"
   ]
  },
  {
   "cell_type": "code",
   "execution_count": null,
   "metadata": {},
   "outputs": [],
   "source": [
    "def sql_create_obj(chart_name, s57class, feat):\n",
    "    global db, cur, s57classes, tot_unique_objs,dups\n",
    "        geom = feat.GetGeometryRef()\n",
    "    if geom.GetDimension() > 0:  # 1 is line, 2 is polygon\n",
    "        #todo decide how to manage lines and polygons. Right now we just save the centroid\n",
    "        geom= geom.Centroid()\n",
    "    #f_id = feat.GetFID()\n",
    "    lnam = feat.GetField('LNAM')\n",
    "    if sql_find_obj(lnam, s57class)!=():        \n",
    "        dups+=1\n",
    "        print(\"\\rfeatures already in database: %s\" % dups),\n",
    "    else:\n",
    "        tot_unique_objs += 1\n",
    "        data_hash=create_hash(s57class,feat)\n",
    "        longitude, latitude = geom.GetX(), geom.GetY()\n",
    "        #https://dev.mysql.com/doc/connector-python/en/connector-python-example-cursor-transaction.html\n",
    "        #data_hash_s= str(data_hash).replace(\"\\'\",\"\\\"\")\n",
    "        data_hash_s = json.dumps(data_hash, encoding='latin1')\n",
    "        add_obj = (\"INSERT INTO s57objs ( f_class, lnam, latitude, longitude,chart_name, tags, created_at, updated_at) VALUES (%s, %s, %s, %s, %s, %s, %s, %s)\")\n",
    "        cur.execute(add_obj, (s57class, lnam, latitude, longitude, chart_name, data_hash_s, datetime.datetime.now(), datetime.datetime.now() ) )\n",
    "        db.commit()"
   ]
  },
  {
   "cell_type": "code",
   "execution_count": null,
   "metadata": {},
   "outputs": [],
   "source": [
    "def scan_charts():\n",
    "    # walk the entire chart directory and process files with extension '.000'\n",
    "    for root, dirs, files in os.walk(root_dir):\n",
    "        path = root.split(os.sep)\n",
    "        for file in files:\n",
    "        chart_name, file_extension = os.path.splitext(file)\n",
    "        #print filename, file_extension\n",
    "        if file_extension == '.000':\n",
    "            file_name=root+\"/\"+file\n",
    "            parse_chart(file_name,chart_name)\n",
    "    print(\"Charts scanned: %s. S57 objects found: %s. SQ Unique objs added: %s \" % (chart_count, tot_objs, tot_unique_objs))\n"
   ]
  },
  {
   "cell_type": "markdown",
   "metadata": {},
   "source": [
    "## Main program"
   ]
  },
  {
   "cell_type": "code",
   "execution_count": null,
   "metadata": {},
   "outputs": [],
   "source": [
    "\n",
    "\n",
    "# import s57 classes managed by squiddio and load them in a hash\n",
    "s57classes = {}\n",
    "with open('s57sqclasses.csv') as csvfile:\n",
    "    classes=csv.reader(csvfile)\n",
    "    for row in classes:\n",
    "        if row[0]=='*':\n",
    "            s57classes[row[3]]={'code': row[1], 'objclass': row[2],'attra': row[4],'attrb': row[5],'attrc': row[6],'class': row[7],\\\n",
    "            'primitives': row[8]}\n",
    "\n",
    "#set test vars\n",
    "#path_name = '/root/ENC_ROOT/US5CA93M/US5CA93M.000'\n",
    "#chart_name=\"US5CA93M\"\n",
    "#parse_chart(path_name,chart_name)\n",
    "\n",
    "scan_charts()\n",
    "\n",
    "cur.close"
   ]
  }
 ],
 "metadata": {
  "kernelspec": {
   "display_name": "Python 3",
   "language": "python",
   "name": "python3"
  },
  "language_info": {
   "codemirror_mode": {
    "name": "ipython",
    "version": 3
   },
   "file_extension": ".py",
   "mimetype": "text/x-python",
   "name": "python",
   "nbconvert_exporter": "python",
   "pygments_lexer": "ipython3",
   "version": "3.6.3"
  }
 },
 "nbformat": 4,
 "nbformat_minor": 2
}
